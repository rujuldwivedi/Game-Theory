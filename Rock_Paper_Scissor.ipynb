{
  "nbformat": 4,
  "nbformat_minor": 0,
  "metadata": {
    "colab": {
      "provenance": []
    },
    "kernelspec": {
      "name": "python3",
      "display_name": "Python 3"
    },
    "language_info": {
      "name": "python"
    }
  },
  "cells": [
    {
      "cell_type": "code",
      "execution_count": 1,
      "metadata": {
        "colab": {
          "base_uri": "https://localhost:8080/"
        },
        "id": "Ovdg5YEGuKWj",
        "outputId": "c4719a47-77e7-45d5-946a-6b928223e0ae"
      },
      "outputs": [
        {
          "output_type": "stream",
          "name": "stdout",
          "text": [
            "Collecting nashpy\n",
            "  Downloading nashpy-0.0.41-py3-none-any.whl.metadata (6.6 kB)\n",
            "Requirement already satisfied: numpy>=1.21.0 in /usr/local/lib/python3.11/dist-packages (from nashpy) (2.0.2)\n",
            "Requirement already satisfied: scipy>=0.19.0 in /usr/local/lib/python3.11/dist-packages (from nashpy) (1.15.3)\n",
            "Requirement already satisfied: networkx>=3.0.0 in /usr/local/lib/python3.11/dist-packages (from nashpy) (3.5)\n",
            "Collecting deprecated>=1.2.14 (from nashpy)\n",
            "  Downloading Deprecated-1.2.18-py2.py3-none-any.whl.metadata (5.7 kB)\n",
            "Requirement already satisfied: wrapt<2,>=1.10 in /usr/local/lib/python3.11/dist-packages (from deprecated>=1.2.14->nashpy) (1.17.2)\n",
            "Downloading nashpy-0.0.41-py3-none-any.whl (27 kB)\n",
            "Downloading Deprecated-1.2.18-py2.py3-none-any.whl (10.0 kB)\n",
            "Installing collected packages: deprecated, nashpy\n",
            "Successfully installed deprecated-1.2.18 nashpy-0.0.41\n"
          ]
        }
      ],
      "source": [
        "pip install nashpy\n"
      ]
    },
    {
      "cell_type": "code",
      "source": [
        "import nashpy as nash\n",
        "import numpy as np\n",
        "\n",
        "# Payoff matrix for Player A\n",
        "A = np.array([\n",
        "    [0, -1, 1],   # Rock\n",
        "    [1, 0, -1],   # Paper\n",
        "    [-1, 1, 0]    # Scissors\n",
        "])\n",
        "\n",
        "# Player B has the opposite payoffs\n",
        "B = -A\n",
        "\n",
        "# Create the game\n",
        "game = nash.Game(A, B)\n",
        "print(\"Rock-Paper-Scissors Game Created\\n\")\n",
        "\n",
        "# Find mixed strategy equilibrium\n",
        "print(\"🎯 Mixed Strategy Nash Equilibrium:\")\n",
        "for eq in game.support_enumeration():\n",
        "    A_strategy, B_strategy = eq\n",
        "    print(f\"Player A: Rock={A_strategy[0]:.2f}, Paper={A_strategy[1]:.2f}, Scissors={A_strategy[2]:.2f}\")\n",
        "    print(f\"Player B: Rock={B_strategy[0]:.2f}, Paper={B_strategy[1]:.2f}, Scissors={B_strategy[2]:.2f}\")\n"
      ],
      "metadata": {
        "colab": {
          "base_uri": "https://localhost:8080/"
        },
        "id": "DFXuK5PIu8E9",
        "outputId": "916e47d1-cf32-405b-d6b6-9e83f55b0cb0"
      },
      "execution_count": 2,
      "outputs": [
        {
          "output_type": "stream",
          "name": "stdout",
          "text": [
            "Rock-Paper-Scissors Game Created\n",
            "\n",
            "🎯 Mixed Strategy Nash Equilibrium:\n",
            "Player A: Rock=0.33, Paper=0.33, Scissors=0.33\n",
            "Player B: Rock=0.33, Paper=0.33, Scissors=0.33\n"
          ]
        }
      ]
    },
    {
      "cell_type": "code",
      "source": [
        "import random\n",
        "\n",
        "moves = [\"Rock\", \"Paper\", \"Scissors\"]\n",
        "\n",
        "# Define outcome matrix: A vs B → result\n",
        "# (A_move, B_move): result → 0 = draw, 1 = A wins, -1 = B wins\n",
        "outcomes = {\n",
        "    (\"Rock\", \"Rock\"): 0,\n",
        "    (\"Rock\", \"Paper\"): -1,\n",
        "    (\"Rock\", \"Scissors\"): 1,\n",
        "    (\"Paper\", \"Rock\"): 1,\n",
        "    (\"Paper\", \"Paper\"): 0,\n",
        "    (\"Paper\", \"Scissors\"): -1,\n",
        "    (\"Scissors\", \"Rock\"): -1,\n",
        "    (\"Scissors\", \"Paper\"): 1,\n",
        "    (\"Scissors\", \"Scissors\"): 0\n",
        "}"
      ],
      "metadata": {
        "id": "AMQ_fvf3va7Y"
      },
      "execution_count": 6,
      "outputs": []
    },
    {
      "cell_type": "code",
      "source": [
        "def play_rps_round():\n",
        "    A_move = random.choice(moves)\n",
        "    B_move = random.choice(moves)\n",
        "    result = outcomes[(A_move, B_move)]\n",
        "    return A_move, B_move, result"
      ],
      "metadata": {
        "id": "srct4ri8vdLd"
      },
      "execution_count": 7,
      "outputs": []
    },
    {
      "cell_type": "code",
      "source": [
        "def simulate_rps(rounds=10):\n",
        "    A_score = 0\n",
        "    B_score = 0\n",
        "    draws = 0\n",
        "\n",
        "    print(f\"\\n🎮 Simulating {rounds} rounds of Rock-Paper-Scissors:\\n\")\n",
        "\n",
        "    for i in range(1, rounds + 1):\n",
        "        A_move, B_move, result = play_rps_round()\n",
        "\n",
        "        print(f\"Round {i}: Player A → {A_move}, Player B → {B_move}\", end=\" \")\n",
        "\n",
        "        if result == 1:\n",
        "            A_score += 1\n",
        "            print(\"→ 🏆 A wins\")\n",
        "        elif result == -1:\n",
        "            B_score += 1\n",
        "            print(\"→ 🏆 B wins\")\n",
        "        else:\n",
        "            draws += 1\n",
        "            print(\"→ 🤝 Draw\")\n",
        "\n",
        "    print(\"\\n📊 Final Scoreboard:\")\n",
        "    print(f\"Player A Wins: {A_score}\")\n",
        "    print(f\"Player B Wins: {B_score}\")\n",
        "    print(f\"Draws: {draws}\")\n",
        "\n",
        "    if A_score > B_score:\n",
        "        print(\"\\n🎉 Overall Winner: Player A\")\n",
        "    elif B_score > A_score:\n",
        "        print(\"\\n🎉 Overall Winner: Player B\")\n",
        "    else:\n",
        "        print(\"\\n⚖️ It's a tie overall!\")\n",
        "\n",
        "if __name__ == \"__main__\":\n",
        "    simulate_rps(10)\n"
      ],
      "metadata": {
        "colab": {
          "base_uri": "https://localhost:8080/"
        },
        "id": "QKno0n4lvIWx",
        "outputId": "6a72536f-5ca7-4026-ed4d-b430642075d2"
      },
      "execution_count": 8,
      "outputs": [
        {
          "output_type": "stream",
          "name": "stdout",
          "text": [
            "\n",
            "🎮 Simulating 10 rounds of Rock-Paper-Scissors:\n",
            "\n",
            "Round 1: Player A → Paper, Player B → Rock → 🏆 A wins\n",
            "Round 2: Player A → Rock, Player B → Rock → 🤝 Draw\n",
            "Round 3: Player A → Rock, Player B → Rock → 🤝 Draw\n",
            "Round 4: Player A → Paper, Player B → Scissors → 🏆 B wins\n",
            "Round 5: Player A → Rock, Player B → Paper → 🏆 B wins\n",
            "Round 6: Player A → Rock, Player B → Paper → 🏆 B wins\n",
            "Round 7: Player A → Paper, Player B → Paper → 🤝 Draw\n",
            "Round 8: Player A → Scissors, Player B → Rock → 🏆 B wins\n",
            "Round 9: Player A → Paper, Player B → Paper → 🤝 Draw\n",
            "Round 10: Player A → Rock, Player B → Rock → 🤝 Draw\n",
            "\n",
            "📊 Final Scoreboard:\n",
            "Player A Wins: 1\n",
            "Player B Wins: 4\n",
            "Draws: 5\n",
            "\n",
            "🎉 Overall Winner: Player B\n"
          ]
        }
      ]
    },
    {
      "cell_type": "code",
      "source": [
        "!pip install matplotlib"
      ],
      "metadata": {
        "colab": {
          "base_uri": "https://localhost:8080/"
        },
        "id": "60cqEe4tvNTX",
        "outputId": "f22d02ec-7396-4fc2-d1fc-0f6fcfde2d16"
      },
      "execution_count": 4,
      "outputs": [
        {
          "output_type": "stream",
          "name": "stdout",
          "text": [
            "Requirement already satisfied: matplotlib in /usr/local/lib/python3.11/dist-packages (3.10.0)\n",
            "Requirement already satisfied: contourpy>=1.0.1 in /usr/local/lib/python3.11/dist-packages (from matplotlib) (1.3.2)\n",
            "Requirement already satisfied: cycler>=0.10 in /usr/local/lib/python3.11/dist-packages (from matplotlib) (0.12.1)\n",
            "Requirement already satisfied: fonttools>=4.22.0 in /usr/local/lib/python3.11/dist-packages (from matplotlib) (4.58.5)\n",
            "Requirement already satisfied: kiwisolver>=1.3.1 in /usr/local/lib/python3.11/dist-packages (from matplotlib) (1.4.8)\n",
            "Requirement already satisfied: numpy>=1.23 in /usr/local/lib/python3.11/dist-packages (from matplotlib) (2.0.2)\n",
            "Requirement already satisfied: packaging>=20.0 in /usr/local/lib/python3.11/dist-packages (from matplotlib) (25.0)\n",
            "Requirement already satisfied: pillow>=8 in /usr/local/lib/python3.11/dist-packages (from matplotlib) (11.2.1)\n",
            "Requirement already satisfied: pyparsing>=2.3.1 in /usr/local/lib/python3.11/dist-packages (from matplotlib) (3.2.3)\n",
            "Requirement already satisfied: python-dateutil>=2.7 in /usr/local/lib/python3.11/dist-packages (from matplotlib) (2.9.0.post0)\n",
            "Requirement already satisfied: six>=1.5 in /usr/local/lib/python3.11/dist-packages (from python-dateutil>=2.7->matplotlib) (1.17.0)\n"
          ]
        }
      ]
    },
    {
      "cell_type": "code",
      "source": [
        "import random\n",
        "import matplotlib.pyplot as plt\n",
        "\n",
        "# Available moves\n",
        "moves = [\"Rock\", \"Paper\", \"Scissors\"]\n",
        "\n",
        "# Result mapping: (A_move, B_move) → result\n",
        "# result: 0 = draw, 1 = A wins, -1 = B wins\n",
        "outcomes = {\n",
        "    (\"Rock\", \"Rock\"): 0,\n",
        "    (\"Rock\", \"Paper\"): -1,\n",
        "    (\"Rock\", \"Scissors\"): 1,\n",
        "    (\"Paper\", \"Rock\"): 1,\n",
        "    (\"Paper\", \"Paper\"): 0,\n",
        "    (\"Paper\", \"Scissors\"): -1,\n",
        "    (\"Scissors\", \"Rock\"): -1,\n",
        "    (\"Scissors\", \"Paper\"): 1,\n",
        "    (\"Scissors\", \"Scissors\"): 0\n",
        "}"
      ],
      "metadata": {
        "id": "sZI0iyONvgFC"
      },
      "execution_count": 9,
      "outputs": []
    },
    {
      "cell_type": "code",
      "source": [
        "# Play one round\n",
        "def play_rps_round():\n",
        "    A_move = random.choice(moves)\n",
        "    B_move = random.choice(moves)\n",
        "    result = outcomes[(A_move, B_move)]\n",
        "    return A_move, B_move, result"
      ],
      "metadata": {
        "id": "ARc4X_vovhh1"
      },
      "execution_count": 10,
      "outputs": []
    },
    {
      "cell_type": "code",
      "source": [
        "# Simulate game and plot score trend\n",
        "def simulate_rps_with_plot(rounds=10):\n",
        "    A_score = 0\n",
        "    B_score = 0\n",
        "\n",
        "    A_scores = []\n",
        "    B_scores = []\n",
        "\n",
        "    print(f\"\\n🎮 Simulating {rounds} rounds of Rock-Paper-Scissors:\\n\")\n",
        "\n",
        "    for i in range(1, rounds + 1):\n",
        "        A_move, B_move, result = play_rps_round()\n",
        "\n",
        "        if result == 1:\n",
        "            A_score += 1\n",
        "            outcome = \"🏆 A wins\"\n",
        "        elif result == -1:\n",
        "            B_score += 1\n",
        "            outcome = \"🏆 B wins\"\n",
        "        else:\n",
        "            outcome = \"🤝 Draw\"\n",
        "\n",
        "        A_scores.append(A_score)\n",
        "        B_scores.append(B_score)\n",
        "\n",
        "        print(f\"Round {i}: A → {A_move}, B → {B_move} → {outcome}\")\n",
        "\n",
        "    # Final scoreboard\n",
        "    print(\"\\n📊 Final Scoreboard:\")\n",
        "    print(f\"Player A Wins: {A_score}\")\n",
        "    print(f\"Player B Wins: {B_score}\")\n",
        "    print(f\"Draws: {rounds - A_score - B_score}\")\n",
        "\n",
        "    # Plotting\n",
        "    plt.figure(figsize=(10, 5))\n",
        "    plt.plot(range(1, rounds+1), A_scores, label=\"Player A\", marker='o')\n",
        "    plt.plot(range(1, rounds+1), B_scores, label=\"Player B\", marker='x')\n",
        "    plt.title(\"Rock-Paper-Scissors: Cumulative Wins Over Time\")\n",
        "    plt.xlabel(\"Round Number\")\n",
        "    plt.ylabel(\"Cumulative Wins\")\n",
        "    plt.legend()\n",
        "    plt.grid(True)\n",
        "    plt.tight_layout()\n",
        "    plt.show()\n",
        "\n",
        "if __name__ == \"__main__\":\n",
        "    simulate_rps_with_plot(20)\n"
      ],
      "metadata": {
        "colab": {
          "base_uri": "https://localhost:8080/",
          "height": 993
        },
        "id": "Umi1zcBcvRqE",
        "outputId": "9b1c92b8-cb0e-4b82-8702-6f8c56e25d77"
      },
      "execution_count": 11,
      "outputs": [
        {
          "output_type": "stream",
          "name": "stdout",
          "text": [
            "\n",
            "🎮 Simulating 20 rounds of Rock-Paper-Scissors:\n",
            "\n",
            "Round 1: A → Scissors, B → Rock → 🏆 B wins\n",
            "Round 2: A → Scissors, B → Scissors → 🤝 Draw\n",
            "Round 3: A → Scissors, B → Rock → 🏆 B wins\n",
            "Round 4: A → Paper, B → Paper → 🤝 Draw\n",
            "Round 5: A → Rock, B → Rock → 🤝 Draw\n",
            "Round 6: A → Paper, B → Scissors → 🏆 B wins\n",
            "Round 7: A → Paper, B → Scissors → 🏆 B wins\n",
            "Round 8: A → Scissors, B → Scissors → 🤝 Draw\n",
            "Round 9: A → Scissors, B → Scissors → 🤝 Draw\n",
            "Round 10: A → Paper, B → Paper → 🤝 Draw\n",
            "Round 11: A → Scissors, B → Scissors → 🤝 Draw\n",
            "Round 12: A → Scissors, B → Paper → 🏆 A wins\n",
            "Round 13: A → Rock, B → Rock → 🤝 Draw\n",
            "Round 14: A → Paper, B → Rock → 🏆 A wins\n",
            "Round 15: A → Paper, B → Paper → 🤝 Draw\n",
            "Round 16: A → Rock, B → Scissors → 🏆 A wins\n",
            "Round 17: A → Scissors, B → Rock → 🏆 B wins\n",
            "Round 18: A → Rock, B → Scissors → 🏆 A wins\n",
            "Round 19: A → Rock, B → Paper → 🏆 B wins\n",
            "Round 20: A → Paper, B → Rock → 🏆 A wins\n",
            "\n",
            "📊 Final Scoreboard:\n",
            "Player A Wins: 5\n",
            "Player B Wins: 6\n",
            "Draws: 9\n"
          ]
        },
        {
          "output_type": "display_data",
          "data": {
            "text/plain": [
              "<Figure size 1000x500 with 1 Axes>"
            ],
            "image/png": "[encoded data removed]"
          },
          "metadata": {}
        }
      ]
    }
  ]
}