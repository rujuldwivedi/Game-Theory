{
  "nbformat": 4,
  "nbformat_minor": 0,
  "metadata": {
    "colab": {
      "provenance": []
    },
    "kernelspec": {
      "name": "python3",
      "display_name": "Python 3"
    },
    "language_info": {
      "name": "python"
    }
  },
  "cells": [
    {
      "cell_type": "code",
      "execution_count": 1,
      "metadata": {
        "id": "Y-BHW177sW9e"
      },
      "outputs": [],
      "source": [
        "# Step 1: Define strategies and payoffs\n",
        "strategies = ['Cooperate', 'Defect']\n",
        "\n",
        "# Payoff Matrix:\n",
        "# Each entry is (A's payoff, B's payoff)\n",
        "payoff_matrix = {\n",
        "    ('Cooperate', 'Cooperate'): (3, 3),\n",
        "    ('Cooperate', 'Defect'):    (0, 5),\n",
        "    ('Defect', 'Cooperate'):    (5, 0),\n",
        "    ('Defect', 'Defect'):       (1, 1)\n",
        "}\n"
      ]
    },
    {
      "cell_type": "code",
      "source": [
        "# Step 2: Get players' choices\n",
        "print(\"Prisoner's Dilemma\")\n",
        "print(\"Available strategies:\", strategies)\n",
        "\n",
        "choice_A = input(\"Player A: Choose your strategy (Cooperate/Defect): \")\n",
        "choice_B = input(\"Player B: Choose your strategy (Cooperate/Defect): \")\n",
        "\n",
        "# Validate choices\n",
        "if (choice_A not in strategies) or (choice_B not in strategies):\n",
        "    print(\"Invalid strategy selected.\")\n",
        "else:\n",
        "    # Fetch and display payoff\n",
        "    payoff = payoff_matrix[(choice_A, choice_B)]\n",
        "    print(f\"\\nPlayer A chose {choice_A}, Player B chose {choice_B}\")\n",
        "    print(f\"Payoffs → A: {payoff[0]}, B: {payoff[1]}\")\n"
      ],
      "metadata": {
        "colab": {
          "base_uri": "https://localhost:8080/"
        },
        "id": "kPhd9Q2ZstdG",
        "outputId": "610e27ce-1f21-4199-858b-f135f21cbe46"
      },
      "execution_count": 2,
      "outputs": [
        {
          "output_type": "stream",
          "name": "stdout",
          "text": [
            "Prisoner's Dilemma\n",
            "Available strategies: ['Cooperate', 'Defect']\n",
            "Player A: Choose your strategy (Cooperate/Defect): Cooperate\n",
            "Player B: Choose your strategy (Cooperate/Defect): Cooperate\n",
            "\n",
            "Player A chose Cooperate, Player B chose Cooperate\n",
            "Payoffs → A: 3, B: 3\n"
          ]
        }
      ]
    },
    {
      "cell_type": "code",
      "source": [
        "!pip install nashpy"
      ],
      "metadata": {
        "colab": {
          "base_uri": "https://localhost:8080/"
        },
        "id": "pU4nWoCNtDT3",
        "outputId": "f3fabcb7-3c72-491f-e8a8-3ffc914648b4"
      },
      "execution_count": 3,
      "outputs": [
        {
          "output_type": "stream",
          "name": "stdout",
          "text": [
            "Collecting nashpy\n",
            "  Downloading nashpy-0.0.41-py3-none-any.whl.metadata (6.6 kB)\n",
            "Requirement already satisfied: numpy>=1.21.0 in /usr/local/lib/python3.11/dist-packages (from nashpy) (2.0.2)\n",
            "Requirement already satisfied: scipy>=0.19.0 in /usr/local/lib/python3.11/dist-packages (from nashpy) (1.15.3)\n",
            "Requirement already satisfied: networkx>=3.0.0 in /usr/local/lib/python3.11/dist-packages (from nashpy) (3.5)\n",
            "Collecting deprecated>=1.2.14 (from nashpy)\n",
            "  Downloading Deprecated-1.2.18-py2.py3-none-any.whl.metadata (5.7 kB)\n",
            "Requirement already satisfied: wrapt<2,>=1.10 in /usr/local/lib/python3.11/dist-packages (from deprecated>=1.2.14->nashpy) (1.17.2)\n",
            "Downloading nashpy-0.0.41-py3-none-any.whl (27 kB)\n",
            "Downloading Deprecated-1.2.18-py2.py3-none-any.whl (10.0 kB)\n",
            "Installing collected packages: deprecated, nashpy\n",
            "Successfully installed deprecated-1.2.18 nashpy-0.0.41\n"
          ]
        }
      ]
    },
    {
      "cell_type": "code",
      "source": [
        "import nashpy as nash\n",
        "import numpy as np\n",
        "\n",
        "# Define the payoff matrices\n",
        "# Rows = Player A (Cooperate, Defect)\n",
        "# Cols = Player B (Cooperate, Defect)\n",
        "\n",
        "# Player A's payoffs\n",
        "A_payoff = np.array([\n",
        "    [3, 0],  # A cooperates → B cooperates or defects\n",
        "    [5, 1]   # A defects → B cooperates or defects\n",
        "])\n",
        "\n",
        "# Player B's payoffs\n",
        "B_payoff = np.array([\n",
        "    [3, 5],  # B cooperates → A cooperates or defects\n",
        "    [0, 1]   # B defects → A cooperates or defects\n",
        "])\n",
        "\n",
        "# Create the game\n",
        "game = nash.Game(A_payoff, B_payoff)\n",
        "print(\"Game defined:\")\n",
        "print(game)\n"
      ],
      "metadata": {
        "colab": {
          "base_uri": "https://localhost:8080/"
        },
        "id": "5LQvxSUQtHq1",
        "outputId": "ce152c05-b9ae-40cc-83ae-208bfd3ca6d0"
      },
      "execution_count": 4,
      "outputs": [
        {
          "output_type": "stream",
          "name": "stdout",
          "text": [
            "Game defined:\n",
            "Bi matrix game with payoff matrices:\n",
            "\n",
            "Row player:\n",
            "[[3 0]\n",
            " [5 1]]\n",
            "\n",
            "Column player:\n",
            "[[3 5]\n",
            " [0 1]]\n"
          ]
        }
      ]
    },
    {
      "cell_type": "code",
      "source": [
        "# Find all Nash Equilibria (including mixed strategies)\n",
        "equilibria = list(game.support_enumeration())\n",
        "\n",
        "print(\"\\nNash Equilibrium (supports shown as probability vectors):\")\n",
        "for eq in equilibria:\n",
        "    print(f\"Player A: {eq[0]} | Player B: {eq[1]}\")\n"
      ],
      "metadata": {
        "colab": {
          "base_uri": "https://localhost:8080/"
        },
        "id": "2okSGq2atMbx",
        "outputId": "66109842-2234-416c-bb48-2fb5863163cb"
      },
      "execution_count": 5,
      "outputs": [
        {
          "output_type": "stream",
          "name": "stdout",
          "text": [
            "\n",
            "Nash Equilibrium (supports shown as probability vectors):\n",
            "Player A: [0. 1.] | Player B: [0. 1.]\n"
          ]
        }
      ]
    },
    {
      "cell_type": "code",
      "source": [
        "import nashpy as nash\n",
        "import numpy as np\n",
        "\n",
        "# Define payoff matrices\n",
        "A_payoff = np.array([[3, 0], [5, 1]])\n",
        "B_payoff = np.array([[3, 5], [0, 1]])\n",
        "\n",
        "# Create the game\n",
        "game = nash.Game(A_payoff, B_payoff)\n",
        "\n",
        "# Compute Nash Equilibria (including mixed)\n",
        "equilibria = list(game.support_enumeration())\n",
        "\n",
        "print(\"\\n🔍 Nash Equilibrium(s) - Mixed Strategy Probabilities:\")\n",
        "for eq in equilibria:\n",
        "    A_strategy, B_strategy = eq\n",
        "    print(f\"Player A: Cooperate={A_strategy[0]:.2f}, Defect={A_strategy[1]:.2f}\")\n",
        "    print(f\"Player B: Cooperate={B_strategy[0]:.2f}, Defect={B_strategy[1]:.2f}\")\n",
        "    print()\n"
      ],
      "metadata": {
        "colab": {
          "base_uri": "https://localhost:8080/"
        },
        "id": "DuybNn8JtYP-",
        "outputId": "4b97863f-a9c8-4aff-b213-0a07ea34fa07"
      },
      "execution_count": 6,
      "outputs": [
        {
          "output_type": "stream",
          "name": "stdout",
          "text": [
            "\n",
            "🔍 Nash Equilibrium(s) - Mixed Strategy Probabilities:\n",
            "Player A: Cooperate=0.00, Defect=1.00\n",
            "Player B: Cooperate=0.00, Defect=1.00\n",
            "\n"
          ]
        }
      ]
    },
    {
      "cell_type": "code",
      "source": [
        "# Matching Pennies (zero-sum game with no pure NE)\n",
        "A = np.array([[1, -1], [-1, 1]])\n",
        "B = -A\n",
        "game = nash.Game(A, B)\n",
        "\n",
        "print(\"Matching Pennies Mixed Strategy Equilibria:\")\n",
        "for eq in game.support_enumeration():\n",
        "    print(eq)\n"
      ],
      "metadata": {
        "colab": {
          "base_uri": "https://localhost:8080/"
        },
        "id": "CWp6F_dvtaVb",
        "outputId": "375a68f3-06aa-4fef-e5e4-9e605a9fb384"
      },
      "execution_count": 7,
      "outputs": [
        {
          "output_type": "stream",
          "name": "stdout",
          "text": [
            "Matching Pennies Mixed Strategy Equilibria:\n",
            "(array([0.5, 0.5]), array([0.5, 0.5]))\n"
          ]
        }
      ]
    },
    {
      "cell_type": "code",
      "source": [
        "import random\n",
        "\n",
        "# Strategies\n",
        "strategies = [\"Cooperate\", \"Defect\"]\n",
        "\n",
        "# Payoff Matrix\n",
        "payoffs = {\n",
        "    (\"Cooperate\", \"Cooperate\"): (3, 3),\n",
        "    (\"Cooperate\", \"Defect\"): (0, 5),\n",
        "    (\"Defect\", \"Cooperate\"): (5, 0),\n",
        "    (\"Defect\", \"Defect\"): (1, 1)\n",
        "}\n",
        "\n",
        "# Player strategies: can make one Tit-for-Tat, one Random\n",
        "def tit_for_tat(last_opponent_move):\n",
        "    return last_opponent_move if last_opponent_move else \"Cooperate\"\n",
        "\n",
        "def random_strategy():\n",
        "    return random.choice(strategies)\n",
        "\n",
        "# Simulate Iterated Game\n",
        "def play_iterated_game(rounds=5):\n",
        "    print(f\"\\n🎲 Starting Iterated Prisoner's Dilemma for {rounds} rounds\")\n",
        "\n",
        "    A_score = 0\n",
        "    B_score = 0\n",
        "\n",
        "    last_A, last_B = None, None\n",
        "\n",
        "    for r in range(1, rounds + 1):\n",
        "        A_move = tit_for_tat(last_B)\n",
        "        B_move = random_strategy()\n",
        "\n",
        "        payoff_A, payoff_B = payoffs[(A_move, B_move)]\n",
        "        A_score += payoff_A\n",
        "        B_score += payoff_B\n",
        "\n",
        "        print(f\"Round {r}: A → {A_move} | B → {B_move} → Scores: A={payoff_A}, B={payoff_B}\")\n",
        "\n",
        "        last_A, last_B = A_move, B_move\n",
        "\n",
        "    print(f\"\\nFinal Score after {rounds} rounds → Player A: {A_score}, Player B: {B_score}\")\n"
      ],
      "metadata": {
        "id": "5SrkjJX0tdQC"
      },
      "execution_count": 8,
      "outputs": []
    },
    {
      "cell_type": "code",
      "source": [
        "if __name__ == \"__main__\":\n",
        "    play_iterated_game(10)\n"
      ],
      "metadata": {
        "colab": {
          "base_uri": "https://localhost:8080/"
        },
        "id": "kjI_xXRwtfEx",
        "outputId": "0bd0c47b-4336-49fd-a39e-538b233ef99e"
      },
      "execution_count": 9,
      "outputs": [
        {
          "output_type": "stream",
          "name": "stdout",
          "text": [
            "\n",
            "🎲 Starting Iterated Prisoner's Dilemma for 10 rounds\n",
            "Round 1: A → Cooperate | B → Defect → Scores: A=0, B=5\n",
            "Round 2: A → Defect | B → Cooperate → Scores: A=5, B=0\n",
            "Round 3: A → Cooperate | B → Defect → Scores: A=0, B=5\n",
            "Round 4: A → Defect | B → Defect → Scores: A=1, B=1\n",
            "Round 5: A → Defect | B → Cooperate → Scores: A=5, B=0\n",
            "Round 6: A → Cooperate | B → Cooperate → Scores: A=3, B=3\n",
            "Round 7: A → Cooperate | B → Defect → Scores: A=0, B=5\n",
            "Round 8: A → Defect | B → Defect → Scores: A=1, B=1\n",
            "Round 9: A → Defect | B → Cooperate → Scores: A=5, B=0\n",
            "Round 10: A → Cooperate | B → Defect → Scores: A=0, B=5\n",
            "\n",
            "Final Score after 10 rounds → Player A: 20, Player B: 25\n"
          ]
        }
      ]
    },
    {
      "cell_type": "code",
      "source": [
        "!pip install matplotlib"
      ],
      "metadata": {
        "colab": {
          "base_uri": "https://localhost:8080/"
        },
        "id": "06J4sq3ZtlII",
        "outputId": "45bf82c6-0f56-4ded-b66d-d079fa4ee669"
      },
      "execution_count": 10,
      "outputs": [
        {
          "output_type": "stream",
          "name": "stdout",
          "text": [
            "Requirement already satisfied: matplotlib in /usr/local/lib/python3.11/dist-packages (3.10.0)\n",
            "Requirement already satisfied: contourpy>=1.0.1 in /usr/local/lib/python3.11/dist-packages (from matplotlib) (1.3.2)\n",
            "Requirement already satisfied: cycler>=0.10 in /usr/local/lib/python3.11/dist-packages (from matplotlib) (0.12.1)\n",
            "Requirement already satisfied: fonttools>=4.22.0 in /usr/local/lib/python3.11/dist-packages (from matplotlib) (4.58.5)\n",
            "Requirement already satisfied: kiwisolver>=1.3.1 in /usr/local/lib/python3.11/dist-packages (from matplotlib) (1.4.8)\n",
            "Requirement already satisfied: numpy>=1.23 in /usr/local/lib/python3.11/dist-packages (from matplotlib) (2.0.2)\n",
            "Requirement already satisfied: packaging>=20.0 in /usr/local/lib/python3.11/dist-packages (from matplotlib) (25.0)\n",
            "Requirement already satisfied: pillow>=8 in /usr/local/lib/python3.11/dist-packages (from matplotlib) (11.2.1)\n",
            "Requirement already satisfied: pyparsing>=2.3.1 in /usr/local/lib/python3.11/dist-packages (from matplotlib) (3.2.3)\n",
            "Requirement already satisfied: python-dateutil>=2.7 in /usr/local/lib/python3.11/dist-packages (from matplotlib) (2.9.0.post0)\n",
            "Requirement already satisfied: six>=1.5 in /usr/local/lib/python3.11/dist-packages (from python-dateutil>=2.7->matplotlib) (1.17.0)\n"
          ]
        }
      ]
    },
    {
      "cell_type": "code",
      "source": [
        "import random\n",
        "import matplotlib.pyplot as plt\n",
        "\n",
        "# Define strategies\n",
        "strategies = [\"Cooperate\", \"Defect\"]\n",
        "\n",
        "# Define Payoff Matrix\n",
        "payoffs = {\n",
        "    (\"Cooperate\", \"Cooperate\"): (3, 3),\n",
        "    (\"Cooperate\", \"Defect\"): (0, 5),\n",
        "    (\"Defect\", \"Cooperate\"): (5, 0),\n",
        "    (\"Defect\", \"Defect\"): (1, 1)\n",
        "}"
      ],
      "metadata": {
        "id": "B4hY2oEotvgl"
      },
      "execution_count": 11,
      "outputs": []
    },
    {
      "cell_type": "code",
      "source": [
        "# Player A: Tit for Tat\n",
        "def tit_for_tat(last_opponent_move):\n",
        "    return last_opponent_move if last_opponent_move else \"Cooperate\""
      ],
      "metadata": {
        "id": "bwDaRH7jtxOO"
      },
      "execution_count": 12,
      "outputs": []
    },
    {
      "cell_type": "code",
      "source": [
        "# Player B: Random\n",
        "def random_strategy():\n",
        "    return random.choice(strategies)"
      ],
      "metadata": {
        "id": "IYNNzv3ftyXv"
      },
      "execution_count": 13,
      "outputs": []
    },
    {
      "cell_type": "code",
      "source": [
        "# Iterated Prisoner's Dilemma Game with Plotting\n",
        "def play_iterated_game(rounds=10):\n",
        "    print(f\"\\n🎲 Starting Iterated Prisoner's Dilemma for {rounds} rounds\")\n",
        "\n",
        "    A_score = 0\n",
        "    B_score = 0\n",
        "\n",
        "    A_scores = []\n",
        "    B_scores = []\n",
        "\n",
        "    last_A, last_B = None, None\n",
        "\n",
        "    for r in range(1, rounds + 1):\n",
        "        A_move = tit_for_tat(last_B)\n",
        "        B_move = random_strategy()\n",
        "\n",
        "        payoff_A, payoff_B = payoffs[(A_move, B_move)]\n",
        "        A_score += payoff_A\n",
        "        B_score += payoff_B\n",
        "\n",
        "        A_scores.append(A_score)\n",
        "        B_scores.append(B_score)\n",
        "\n",
        "        print(f\"Round {r}: A → {A_move} | B → {B_move} → Scores: A={payoff_A}, B={payoff_B}\")\n",
        "\n",
        "        last_A, last_B = A_move, B_move\n",
        "\n",
        "    print(f\"\\nFinal Score → A: {A_score}, B: {B_score}\")\n",
        "\n",
        "    # Plotting\n",
        "    plt.figure(figsize=(10, 5))\n",
        "    plt.plot(range(1, rounds+1), A_scores, label=\"Player A (Tit-for-Tat)\", marker='o')\n",
        "    plt.plot(range(1, rounds+1), B_scores, label=\"Player B (Random)\", marker='x')\n",
        "    plt.xlabel(\"Round Number\")\n",
        "    plt.ylabel(\"Cumulative Score\")\n",
        "    plt.title(\"Iterated Prisoner's Dilemma Score Trend\")\n",
        "    plt.legend()\n",
        "    plt.grid(True)\n",
        "    plt.tight_layout()\n",
        "    plt.show()\n",
        "\n",
        "# Run\n",
        "if __name__ == \"__main__\":\n",
        "    play_iterated_game(rounds=10)\n"
      ],
      "metadata": {
        "colab": {
          "base_uri": "https://localhost:8080/",
          "height": 605
        },
        "id": "avwEwamGttAf",
        "outputId": "0030e7ae-c6aa-406c-b0ca-7d6a726decac"
      },
      "execution_count": 14,
      "outputs": [
        {
          "output_type": "stream",
          "name": "stdout",
          "text": [
            "\n",
            "🎲 Starting Iterated Prisoner's Dilemma for 10 rounds\n",
            "Round 1: A → Cooperate | B → Cooperate → Scores: A=3, B=3\n",
            "Round 2: A → Cooperate | B → Defect → Scores: A=0, B=5\n",
            "Round 3: A → Defect | B → Defect → Scores: A=1, B=1\n",
            "Round 4: A → Defect | B → Cooperate → Scores: A=5, B=0\n",
            "Round 5: A → Cooperate | B → Defect → Scores: A=0, B=5\n",
            "Round 6: A → Defect | B → Cooperate → Scores: A=5, B=0\n",
            "Round 7: A → Cooperate | B → Cooperate → Scores: A=3, B=3\n",
            "Round 8: A → Cooperate | B → Defect → Scores: A=0, B=5\n",
            "Round 9: A → Defect | B → Defect → Scores: A=1, B=1\n",
            "Round 10: A → Defect | B → Defect → Scores: A=1, B=1\n",
            "\n",
            "Final Score → A: 19, B: 24\n"
          ]
        },
        {
          "output_type": "display_data",
          "data": {
            "text/plain": [
              "<Figure size 1000x500 with 1 Axes>"
            ],
            "image/png": "[encoded data removed]"
          },
          "metadata": {}
        }
      ]
    }
  ]
}